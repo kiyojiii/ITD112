{
 "cells": [
  {
   "cell_type": "markdown",
   "metadata": {},
   "source": [
    "## Exercise 1.04: Loading a Sample Dataset and Calculating the Mean"
   ]
  },
  {
   "cell_type": "markdown",
   "metadata": {},
   "source": [
    "In this exercise, we will be loading the `world_population.csv` dataset and calculate the mean of some rows and columns.   \n",
    "Our dataset holds the yearly population density for each country. We can therefore use Pandas to get some really quick and easy insights."
   ]
  },
  {
   "cell_type": "markdown",
   "metadata": {},
   "source": [
    "#### Loading our dataset"
   ]
  },
  {
   "cell_type": "code",
   "execution_count": 1,
   "metadata": {},
   "outputs": [],
   "source": [
    "# importing the necessary dependencies\n",
    "import numpy as np\n",
    "import pandas as pd \n",
    "import matplotlib.pyplot as plt"
   ]
  },
  {
   "cell_type": "code",
   "execution_count": 2,
   "metadata": {},
   "outputs": [],
   "source": [
    "# loading the Dataset\n",
    "dataset = pd.read_csv('C:/Users/user/Desktop/ITD112/Laboratory_Exercise_1/Datasets/world_population.csv', index_col=0)"
   ]
  },
  {
   "cell_type": "markdown",
   "metadata": {},
   "source": [
    "**Note:**   \n",
    "`index_col` enables you to use any column as index instead of the incrementing int column that gets added by default. In our case we want column 0, which is the country names, as indices."
   ]
  },
  {
   "cell_type": "code",
   "execution_count": 3,
   "metadata": {},
   "outputs": [
    {
     "data": {
      "text/html": [
       "<div>\n",
       "<style scoped>\n",
       "    .dataframe tbody tr th:only-of-type {\n",
       "        vertical-align: middle;\n",
       "    }\n",
       "\n",
       "    .dataframe tbody tr th {\n",
       "        vertical-align: top;\n",
       "    }\n",
       "\n",
       "    .dataframe thead th {\n",
       "        text-align: right;\n",
       "    }\n",
       "</style>\n",
       "<table border=\"1\" class=\"dataframe\">\n",
       "  <thead>\n",
       "    <tr style=\"text-align: right;\">\n",
       "      <th></th>\n",
       "      <th>Country Code</th>\n",
       "      <th>Indicator Name</th>\n",
       "      <th>Indicator Code</th>\n",
       "      <th>1960</th>\n",
       "      <th>1961</th>\n",
       "      <th>1962</th>\n",
       "      <th>1963</th>\n",
       "      <th>1964</th>\n",
       "      <th>1965</th>\n",
       "      <th>1966</th>\n",
       "      <th>...</th>\n",
       "      <th>2007</th>\n",
       "      <th>2008</th>\n",
       "      <th>2009</th>\n",
       "      <th>2010</th>\n",
       "      <th>2011</th>\n",
       "      <th>2012</th>\n",
       "      <th>2013</th>\n",
       "      <th>2014</th>\n",
       "      <th>2015</th>\n",
       "      <th>2016</th>\n",
       "    </tr>\n",
       "    <tr>\n",
       "      <th>Country Name</th>\n",
       "      <th></th>\n",
       "      <th></th>\n",
       "      <th></th>\n",
       "      <th></th>\n",
       "      <th></th>\n",
       "      <th></th>\n",
       "      <th></th>\n",
       "      <th></th>\n",
       "      <th></th>\n",
       "      <th></th>\n",
       "      <th></th>\n",
       "      <th></th>\n",
       "      <th></th>\n",
       "      <th></th>\n",
       "      <th></th>\n",
       "      <th></th>\n",
       "      <th></th>\n",
       "      <th></th>\n",
       "      <th></th>\n",
       "      <th></th>\n",
       "      <th></th>\n",
       "    </tr>\n",
       "  </thead>\n",
       "  <tbody>\n",
       "    <tr>\n",
       "      <th>Aruba</th>\n",
       "      <td>ABW</td>\n",
       "      <td>Population density (people per sq. km of land ...</td>\n",
       "      <td>EN.POP.DNST</td>\n",
       "      <td>NaN</td>\n",
       "      <td>307.972222</td>\n",
       "      <td>312.366667</td>\n",
       "      <td>314.983333</td>\n",
       "      <td>316.827778</td>\n",
       "      <td>318.666667</td>\n",
       "      <td>320.622222</td>\n",
       "      <td>...</td>\n",
       "      <td>562.322222</td>\n",
       "      <td>563.011111</td>\n",
       "      <td>563.422222</td>\n",
       "      <td>564.427778</td>\n",
       "      <td>566.311111</td>\n",
       "      <td>568.850000</td>\n",
       "      <td>571.783333</td>\n",
       "      <td>574.672222</td>\n",
       "      <td>577.161111</td>\n",
       "      <td>NaN</td>\n",
       "    </tr>\n",
       "    <tr>\n",
       "      <th>Andorra</th>\n",
       "      <td>AND</td>\n",
       "      <td>Population density (people per sq. km of land ...</td>\n",
       "      <td>EN.POP.DNST</td>\n",
       "      <td>NaN</td>\n",
       "      <td>30.587234</td>\n",
       "      <td>32.714894</td>\n",
       "      <td>34.914894</td>\n",
       "      <td>37.170213</td>\n",
       "      <td>39.470213</td>\n",
       "      <td>41.800000</td>\n",
       "      <td>...</td>\n",
       "      <td>180.591489</td>\n",
       "      <td>182.161702</td>\n",
       "      <td>181.859574</td>\n",
       "      <td>179.614894</td>\n",
       "      <td>175.161702</td>\n",
       "      <td>168.757447</td>\n",
       "      <td>161.493617</td>\n",
       "      <td>154.863830</td>\n",
       "      <td>149.942553</td>\n",
       "      <td>NaN</td>\n",
       "    </tr>\n",
       "    <tr>\n",
       "      <th>Afghanistan</th>\n",
       "      <td>AFG</td>\n",
       "      <td>Population density (people per sq. km of land ...</td>\n",
       "      <td>EN.POP.DNST</td>\n",
       "      <td>NaN</td>\n",
       "      <td>14.038148</td>\n",
       "      <td>14.312061</td>\n",
       "      <td>14.599692</td>\n",
       "      <td>14.901579</td>\n",
       "      <td>15.218206</td>\n",
       "      <td>15.545203</td>\n",
       "      <td>...</td>\n",
       "      <td>39.637202</td>\n",
       "      <td>40.634655</td>\n",
       "      <td>41.674005</td>\n",
       "      <td>42.830327</td>\n",
       "      <td>44.127634</td>\n",
       "      <td>45.533197</td>\n",
       "      <td>46.997059</td>\n",
       "      <td>48.444546</td>\n",
       "      <td>49.821649</td>\n",
       "      <td>NaN</td>\n",
       "    </tr>\n",
       "    <tr>\n",
       "      <th>Angola</th>\n",
       "      <td>AGO</td>\n",
       "      <td>Population density (people per sq. km of land ...</td>\n",
       "      <td>EN.POP.DNST</td>\n",
       "      <td>NaN</td>\n",
       "      <td>4.305195</td>\n",
       "      <td>4.384299</td>\n",
       "      <td>4.464433</td>\n",
       "      <td>4.544558</td>\n",
       "      <td>4.624228</td>\n",
       "      <td>4.703271</td>\n",
       "      <td>...</td>\n",
       "      <td>15.387749</td>\n",
       "      <td>15.915819</td>\n",
       "      <td>16.459536</td>\n",
       "      <td>17.020898</td>\n",
       "      <td>17.600302</td>\n",
       "      <td>18.196544</td>\n",
       "      <td>18.808215</td>\n",
       "      <td>19.433323</td>\n",
       "      <td>20.070565</td>\n",
       "      <td>NaN</td>\n",
       "    </tr>\n",
       "    <tr>\n",
       "      <th>Albania</th>\n",
       "      <td>ALB</td>\n",
       "      <td>Population density (people per sq. km of land ...</td>\n",
       "      <td>EN.POP.DNST</td>\n",
       "      <td>NaN</td>\n",
       "      <td>60.576642</td>\n",
       "      <td>62.456898</td>\n",
       "      <td>64.329234</td>\n",
       "      <td>66.209307</td>\n",
       "      <td>68.058066</td>\n",
       "      <td>69.874927</td>\n",
       "      <td>...</td>\n",
       "      <td>108.394781</td>\n",
       "      <td>107.566204</td>\n",
       "      <td>106.843759</td>\n",
       "      <td>106.314635</td>\n",
       "      <td>106.013869</td>\n",
       "      <td>105.848431</td>\n",
       "      <td>105.717226</td>\n",
       "      <td>105.607810</td>\n",
       "      <td>105.444051</td>\n",
       "      <td>NaN</td>\n",
       "    </tr>\n",
       "  </tbody>\n",
       "</table>\n",
       "<p>5 rows × 60 columns</p>\n",
       "</div>"
      ],
      "text/plain": [
       "             Country Code                                     Indicator Name  \\\n",
       "Country Name                                                                   \n",
       "Aruba                 ABW  Population density (people per sq. km of land ...   \n",
       "Andorra               AND  Population density (people per sq. km of land ...   \n",
       "Afghanistan           AFG  Population density (people per sq. km of land ...   \n",
       "Angola                AGO  Population density (people per sq. km of land ...   \n",
       "Albania               ALB  Population density (people per sq. km of land ...   \n",
       "\n",
       "             Indicator Code  1960        1961        1962        1963  \\\n",
       "Country Name                                                            \n",
       "Aruba           EN.POP.DNST   NaN  307.972222  312.366667  314.983333   \n",
       "Andorra         EN.POP.DNST   NaN   30.587234   32.714894   34.914894   \n",
       "Afghanistan     EN.POP.DNST   NaN   14.038148   14.312061   14.599692   \n",
       "Angola          EN.POP.DNST   NaN    4.305195    4.384299    4.464433   \n",
       "Albania         EN.POP.DNST   NaN   60.576642   62.456898   64.329234   \n",
       "\n",
       "                    1964        1965        1966  ...        2007        2008  \\\n",
       "Country Name                                      ...                           \n",
       "Aruba         316.827778  318.666667  320.622222  ...  562.322222  563.011111   \n",
       "Andorra        37.170213   39.470213   41.800000  ...  180.591489  182.161702   \n",
       "Afghanistan    14.901579   15.218206   15.545203  ...   39.637202   40.634655   \n",
       "Angola          4.544558    4.624228    4.703271  ...   15.387749   15.915819   \n",
       "Albania        66.209307   68.058066   69.874927  ...  108.394781  107.566204   \n",
       "\n",
       "                    2009        2010        2011        2012        2013  \\\n",
       "Country Name                                                               \n",
       "Aruba         563.422222  564.427778  566.311111  568.850000  571.783333   \n",
       "Andorra       181.859574  179.614894  175.161702  168.757447  161.493617   \n",
       "Afghanistan    41.674005   42.830327   44.127634   45.533197   46.997059   \n",
       "Angola         16.459536   17.020898   17.600302   18.196544   18.808215   \n",
       "Albania       106.843759  106.314635  106.013869  105.848431  105.717226   \n",
       "\n",
       "                    2014        2015  2016  \n",
       "Country Name                                \n",
       "Aruba         574.672222  577.161111   NaN  \n",
       "Andorra       154.863830  149.942553   NaN  \n",
       "Afghanistan    48.444546   49.821649   NaN  \n",
       "Angola         19.433323   20.070565   NaN  \n",
       "Albania       105.607810  105.444051   NaN  \n",
       "\n",
       "[5 rows x 60 columns]"
      ]
     },
     "execution_count": 3,
     "metadata": {},
     "output_type": "execute_result"
    }
   ],
   "source": [
    "# looking at the dataset\n",
    "dataset.head()"
   ]
  },
  {
   "cell_type": "markdown",
   "metadata": {},
   "source": [
    "---"
   ]
  },
  {
   "cell_type": "markdown",
   "metadata": {},
   "source": [
    "#### After loading our dataset"
   ]
  },
  {
   "cell_type": "markdown",
   "metadata": {},
   "source": [
    "To get a quick overview on our dataset we want to print out the \"shape\" of it.   \n",
    "This will give us an output of the form (rows, columns)\n",
    "\n",
    "- Get the shape of the dataset\n",
    "- Calculate the mean of the 1961 column\n",
    "- Calculate the mean of the 2015 column\n",
    "- Get the mean for each country and return the first 10 rows\n",
    "- Get the mean for each feature (column) and return the last 10 entries\n",
    "- Get the mean value for the whole dataset"
   ]
  },
  {
   "cell_type": "code",
   "execution_count": 4,
   "metadata": {},
   "outputs": [
    {
     "data": {
      "text/plain": [
       "(264, 60)"
      ]
     },
     "execution_count": 4,
     "metadata": {},
     "output_type": "execute_result"
    }
   ],
   "source": [
    "# printing the shape of our dataset\n",
    "dataset.shape"
   ]
  },
  {
   "cell_type": "code",
   "execution_count": 5,
   "metadata": {},
   "outputs": [
    {
     "data": {
      "text/plain": [
       "176.91514132840555"
      ]
     },
     "execution_count": 5,
     "metadata": {},
     "output_type": "execute_result"
    }
   ],
   "source": [
    "# calculating the mean for 1961 column\n",
    "dataset[\"1961\"].mean()"
   ]
  },
  {
   "cell_type": "code",
   "execution_count": 6,
   "metadata": {},
   "outputs": [
    {
     "data": {
      "text/plain": [
       "368.70660104001837"
      ]
     },
     "execution_count": 6,
     "metadata": {},
     "output_type": "execute_result"
    }
   ],
   "source": [
    "# calculating the mean for 2015 column\n",
    "dataset[\"2015\"].mean()"
   ]
  },
  {
   "cell_type": "markdown",
   "metadata": {},
   "source": [
    "**Note:**   \n",
    "Only by comaparing the overall mean of the two years, 1961 and 2015, we can already see that the mean population density **more than doubled** in this time range."
   ]
  },
  {
   "cell_type": "code",
   "execution_count": 7,
   "metadata": {},
   "outputs": [
    {
     "name": "stdout",
     "output_type": "stream",
     "text": [
      "Country Name\n",
      "Aruba                   413.944949\n",
      "Andorra                 106.838839\n",
      "Afghanistan              25.373379\n",
      "Angola                    9.649583\n",
      "Albania                  99.159197\n",
      "Arab World               16.118586\n",
      "United Arab Emirates     31.321721\n",
      "Argentina                11.634028\n",
      "Armenia                 103.415539\n",
      "American Samoa          211.855636\n",
      "dtype: float64\n"
     ]
    }
   ],
   "source": [
    "# Assuming 'dataset' is your DataFrame, select only valid numeric columns\n",
    "numeric_columns = dataset.select_dtypes(include='number')\n",
    "\n",
    "# Calculate the mean of selected numeric columns\n",
    "mean_values = numeric_columns.mean(axis=1)\n",
    "\n",
    "# Display the mean values for the first 10 rows\n",
    "print(mean_values.head(10))"
   ]
  },
  {
   "cell_type": "code",
   "execution_count": 8,
   "metadata": {},
   "outputs": [
    {
     "name": "stderr",
     "output_type": "stream",
     "text": [
      "C:\\Users\\user\\AppData\\Local\\Temp\\ipykernel_920\\51040833.py:2: FutureWarning: Dropping of nuisance columns in DataFrame reductions (with 'numeric_only=None') is deprecated; in a future version this will raise TypeError.  Select only valid columns before calling the reduction.\n",
      "  dataset.mean(axis=1).head(10)\n"
     ]
    },
    {
     "data": {
      "text/plain": [
       "Country Name\n",
       "Aruba                   413.944949\n",
       "Andorra                 106.838839\n",
       "Afghanistan              25.373379\n",
       "Angola                    9.649583\n",
       "Albania                  99.159197\n",
       "Arab World               16.118586\n",
       "United Arab Emirates     31.321721\n",
       "Argentina                11.634028\n",
       "Armenia                 103.415539\n",
       "American Samoa          211.855636\n",
       "dtype: float64"
      ]
     },
     "execution_count": 8,
     "metadata": {},
     "output_type": "execute_result"
    }
   ],
   "source": [
    "# mean for each country (row)\n",
    "dataset.mean(axis=1).head(10)"
   ]
  },
  {
   "cell_type": "code",
   "execution_count": 9,
   "metadata": {},
   "outputs": [
    {
     "name": "stdout",
     "output_type": "stream",
     "text": [
      "2007    331.995474\n",
      "2008    338.688417\n",
      "2009    343.649206\n",
      "2010    347.967029\n",
      "2011    351.942027\n",
      "2012    357.787305\n",
      "2013    360.985726\n",
      "2014    364.849194\n",
      "2015    368.706601\n",
      "2016           NaN\n",
      "dtype: float64\n"
     ]
    }
   ],
   "source": [
    "# Assuming 'dataset' is your DataFrame, select only valid numeric columns\n",
    "numeric_columns = dataset.select_dtypes(include='number')\n",
    "\n",
    "# Calculate the mean of selected numeric columns\n",
    "mean_values = numeric_columns.mean(axis=0)\n",
    "\n",
    "# Display the mean values for the first 10 rows\n",
    "print(mean_values.tail(10))"
   ]
  },
  {
   "cell_type": "code",
   "execution_count": 10,
   "metadata": {},
   "outputs": [
    {
     "name": "stderr",
     "output_type": "stream",
     "text": [
      "C:\\Users\\user\\AppData\\Local\\Temp\\ipykernel_920\\2830591496.py:2: FutureWarning: The default value of numeric_only in DataFrame.mean is deprecated. In a future version, it will default to False. In addition, specifying 'numeric_only=None' is deprecated. Select only valid columns or specify the value of numeric_only to silence this warning.\n",
      "  dataset.mean(axis=0).tail(10)\n"
     ]
    },
    {
     "data": {
      "text/plain": [
       "2007    331.995474\n",
       "2008    338.688417\n",
       "2009    343.649206\n",
       "2010    347.967029\n",
       "2011    351.942027\n",
       "2012    357.787305\n",
       "2013    360.985726\n",
       "2014    364.849194\n",
       "2015    368.706601\n",
       "2016           NaN\n",
       "dtype: float64"
      ]
     },
     "execution_count": 10,
     "metadata": {},
     "output_type": "execute_result"
    }
   ],
   "source": [
    "# mean for each feature (col)\n",
    "dataset.mean(axis=0).tail(10)"
   ]
  },
  {
   "cell_type": "markdown",
   "metadata": {},
   "source": [
    "**Note:**   \n",
    "The axis parameter is again needed to control the aggregation flow."
   ]
  },
  {
   "cell_type": "code",
   "execution_count": 11,
   "metadata": {},
   "outputs": [
    {
     "name": "stdout",
     "output_type": "stream",
     "text": [
      "1960           NaN\n",
      "1961    176.915141\n",
      "1962    180.703231\n",
      "1963    184.572413\n",
      "1964    188.461797\n",
      "1965    192.412363\n",
      "1966    196.145042\n",
      "1967    200.118063\n",
      "1968    203.879464\n",
      "1969    207.336102\n",
      "1970    210.607871\n",
      "1971    213.489694\n",
      "1972    215.998475\n",
      "1973    218.438708\n",
      "1974    220.621210\n",
      "1975    223.046375\n",
      "1976    224.960258\n",
      "1977    227.006734\n",
      "1978    229.187306\n",
      "1979    232.510772\n",
      "1980    236.185357\n",
      "1981    240.789508\n",
      "1982    246.175178\n",
      "1983    251.342389\n",
      "1984    256.647822\n",
      "1985    261.680751\n",
      "1986    266.647038\n",
      "1987    271.768300\n",
      "1988    276.813259\n",
      "1989    281.850054\n",
      "1990    286.062387\n",
      "1991    288.292566\n",
      "1992    293.305416\n",
      "1993    297.759160\n",
      "1994    302.275463\n",
      "1995    304.537276\n",
      "1996    309.714948\n",
      "1997    313.896935\n",
      "1998    320.405981\n",
      "1999    324.004669\n",
      "2000    327.270760\n",
      "2001    312.259570\n",
      "2002    313.269043\n",
      "2003    315.847613\n",
      "2004    317.746559\n",
      "2005    322.669534\n",
      "2006    326.907971\n",
      "2007    331.995474\n",
      "2008    338.688417\n",
      "2009    343.649206\n",
      "2010    347.967029\n",
      "2011    351.942027\n",
      "2012    357.787305\n",
      "2013    360.985726\n",
      "2014    364.849194\n",
      "2015    368.706601\n",
      "2016           NaN\n",
      "dtype: float64\n"
     ]
    }
   ],
   "source": [
    "# Assuming 'dataset' is your DataFrame, calculate the mean for all numeric columns\n",
    "mean_values = dataset.mean(numeric_only=True)\n",
    "\n",
    "# Display the mean values for each numeric column\n",
    "print(mean_values)\n"
   ]
  },
  {
   "cell_type": "code",
   "execution_count": 12,
   "metadata": {},
   "outputs": [
    {
     "name": "stderr",
     "output_type": "stream",
     "text": [
      "C:\\Users\\user\\AppData\\Local\\Temp\\ipykernel_920\\2681821768.py:2: FutureWarning: The default value of numeric_only in DataFrame.mean is deprecated. In a future version, it will default to False. In addition, specifying 'numeric_only=None' is deprecated. Select only valid columns or specify the value of numeric_only to silence this warning.\n",
      "  dataset.mean()\n"
     ]
    },
    {
     "data": {
      "text/plain": [
       "1960           NaN\n",
       "1961    176.915141\n",
       "1962    180.703231\n",
       "1963    184.572413\n",
       "1964    188.461797\n",
       "1965    192.412363\n",
       "1966    196.145042\n",
       "1967    200.118063\n",
       "1968    203.879464\n",
       "1969    207.336102\n",
       "1970    210.607871\n",
       "1971    213.489694\n",
       "1972    215.998475\n",
       "1973    218.438708\n",
       "1974    220.621210\n",
       "1975    223.046375\n",
       "1976    224.960258\n",
       "1977    227.006734\n",
       "1978    229.187306\n",
       "1979    232.510772\n",
       "1980    236.185357\n",
       "1981    240.789508\n",
       "1982    246.175178\n",
       "1983    251.342389\n",
       "1984    256.647822\n",
       "1985    261.680751\n",
       "1986    266.647038\n",
       "1987    271.768300\n",
       "1988    276.813259\n",
       "1989    281.850054\n",
       "1990    286.062387\n",
       "1991    288.292566\n",
       "1992    293.305416\n",
       "1993    297.759160\n",
       "1994    302.275463\n",
       "1995    304.537276\n",
       "1996    309.714948\n",
       "1997    313.896935\n",
       "1998    320.405981\n",
       "1999    324.004669\n",
       "2000    327.270760\n",
       "2001    312.259570\n",
       "2002    313.269043\n",
       "2003    315.847613\n",
       "2004    317.746559\n",
       "2005    322.669534\n",
       "2006    326.907971\n",
       "2007    331.995474\n",
       "2008    338.688417\n",
       "2009    343.649206\n",
       "2010    347.967029\n",
       "2011    351.942027\n",
       "2012    357.787305\n",
       "2013    360.985726\n",
       "2014    364.849194\n",
       "2015    368.706601\n",
       "2016           NaN\n",
       "dtype: float64"
      ]
     },
     "execution_count": 12,
     "metadata": {},
     "output_type": "execute_result"
    }
   ],
   "source": [
    "# calculating the mean for the whole matrix\n",
    "dataset.mean()"
   ]
  },
  {
   "cell_type": "markdown",
   "metadata": {},
   "source": [
    "**Note:**   \n",
    "If you compare the result of this last cell with the one about `# mean for each col` you can see that the default axis is 0 which leads to the same result as the cell above."
   ]
  },
  {
   "cell_type": "markdown",
   "metadata": {},
   "source": [
    "Using a real dataset with Pandas can already give us some quick and easy insights into our data.  \n",
    "In this case we can already see that the mean population density increased constantly for each year."
   ]
  },
  {
   "cell_type": "markdown",
   "metadata": {},
   "source": [
    "# GRAPH --------------------------------------------------------------------------------------------------"
   ]
  },
  {
   "cell_type": "code",
   "execution_count": 13,
   "metadata": {},
   "outputs": [
    {
     "data": {
      "image/png": "[encoded data removed]",
      "text/plain": [
       "<Figure size 800x600 with 1 Axes>"
      ]
     },
     "metadata": {},
     "output_type": "display_data"
    }
   ],
   "source": [
    "# Calculate the mean for the years 1961 and 2015\n",
    "mean_1961 = dataset[\"1961\"].mean()\n",
    "mean_2015 = dataset[\"2015\"].mean()\n",
    "\n",
    "# Create a bar graph\n",
    "years = ['1961', '2015']\n",
    "mean_density = [mean_1961, mean_2015]\n",
    "\n",
    "plt.figure(figsize=(8, 6))\n",
    "plt.bar(years, mean_density, color=['blue', 'green'])\n",
    "plt.xlabel('Year')\n",
    "plt.ylabel('Mean Population Density')\n",
    "plt.title('Mean Population Density in 1961 and 2015')\n",
    "plt.show()"
   ]
  },
  {
   "cell_type": "code",
   "execution_count": null,
   "metadata": {},
   "outputs": [],
   "source": []
  }
 ],
 "metadata": {
  "kernelspec": {
   "display_name": "Python 3 (ipykernel)",
   "language": "python",
   "name": "python3"
  },
  "language_info": {
   "codemirror_mode": {
    "name": "ipython",
    "version": 3
   },
   "file_extension": ".py",
   "mimetype": "text/x-python",
   "name": "python",
   "nbconvert_exporter": "python",
   "pygments_lexer": "ipython3",
   "version": "3.10.10"
  }
 },
 "nbformat": 4,
 "nbformat_minor": 2
}
