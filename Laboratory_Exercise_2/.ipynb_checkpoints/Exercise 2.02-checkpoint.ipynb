{
 "cells": [
  {
   "cell_type": "markdown",
   "metadata": {},
   "source": [
    "## Exercise 2.02: Forest Fire Size and Temperature Analysis"
   ]
  },
  {
   "cell_type": "markdown",
   "metadata": {},
   "source": [
    "In this activity, we will use pandas features to derive some insights from a forest fire dataset. We will get the mean size of forest fires, what the largest recorded fire in our dataset is, and whether the amount of forest fires grows proportionally to the temperature in each month."
   ]
  },
  {
   "cell_type": "markdown",
   "metadata": {},
   "source": [
    "#### Loading the dataset"
   ]
  },
  {
   "cell_type": "code",
   "execution_count": null,
   "metadata": {},
   "outputs": [],
   "source": [
    "# importing the necessary dependencies\n",
    "import pandas as pd"
   ]
  },
  {
   "cell_type": "code",
   "execution_count": null,
   "metadata": {},
   "outputs": [],
   "source": [
    "#1 load the \"forestfires.csv\" dataset"
   ]
  },
  {
   "cell_type": "code",
   "execution_count": null,
   "metadata": {},
   "outputs": [],
   "source": [
    "#2 looking at the first two rows of the dataset"
   ]
  },
  {
   "cell_type": "markdown",
   "metadata": {},
   "source": [
    "The dataset contains: \n",
    "- X - x-axis spatial coordinate within the Montesinho park map: 1 to 9 \n",
    "- Y - y-axis spatial coordinate within the Montesinho park map: 2 to 9 \n",
    "- **month - month of the year: 'jan' to 'dec'**\n",
    "- day - day of the week: 'mon' to 'sun' \n",
    "- FFMC - FFMC index from the FWI system: 18.7 to 96.20 \n",
    "- DMC - DMC index from the FWI system: 1.1 to 291.3 \n",
    "- DC - DC index from the FWI system: 7.9 to 860.6 \n",
    "- ISI - ISI index from the FWI system: 0.0 to 56.10 \n",
    "- **temp - temperature in Celsius degrees: 2.2 to 33.30**\n",
    "- RH - relative humidity in %: 15.0 to 100 \n",
    "- wind - wind speed in km/h: 0.40 to 9.40 \n",
    "- rain - outside rain in mm/m2 : 0.0 to 6.4 \n",
    "- **area - the burned area of the forest (in ha): 0.00 to 1090.84**\n",
    "\n",
    "\n",
    "**Note:**   \n",
    "The fields that we'll be working with are highlighted in the listing."
   ]
  },
  {
   "cell_type": "markdown",
   "metadata": {},
   "source": [
    "---"
   ]
  },
  {
   "cell_type": "markdown",
   "metadata": {},
   "source": [
    "#### Getting insights into the sizes of forest fires.\n",
    "\n",
    "When looking at the first two rows of our dataset we can already see that it contains entries in which the area is 0.    \n",
    "For this first task we only care about fires that have an area of more than 0.   \n",
    "\n",
    "Create a new dataset that only contains the entries with an area value of > 0."
   ]
  },
  {
   "cell_type": "code",
   "execution_count": null,
   "metadata": {},
   "outputs": [],
   "source": [
    "#3 filter the dataset for rows that have an area > 0"
   ]
  },
  {
   "cell_type": "markdown",
   "metadata": {},
   "source": [
    "After filtering out the zero area entries, we can simply use the `mean` method of pandas to get the mean area size of the forest fires for the filtered down dataset not containing zero area sizes.\n",
    "\n",
    "Get the mean value for the `area` column of out filtered dataset."
   ]
  },
  {
   "cell_type": "code",
   "execution_count": null,
   "metadata": {},
   "outputs": [],
   "source": [
    "#4 get the mean value for the area column"
   ]
  },
  {
   "cell_type": "markdown",
   "metadata": {},
   "source": [
    "In addition to that, looking at the largest and smallest non-zero area can help us understand the range of possible area sizes.\n",
    "Let's get more insights into that.\n",
    "\n",
    "- Use the `min` and `max` methods to see the smallest and largest area that has been affected by a forest fire.\n",
    "- Use the `std` method to get insights into how much variation there is in our dataset."
   ]
  },
  {
   "cell_type": "code",
   "execution_count": null,
   "metadata": {},
   "outputs": [],
   "source": [
    "#5 get the smallest area value from our dataset"
   ]
  },
  {
   "cell_type": "code",
   "execution_count": null,
   "metadata": {},
   "outputs": [],
   "source": [
    "#6 get the largest area value from our dataset"
   ]
  },
  {
   "cell_type": "code",
   "execution_count": null,
   "metadata": {},
   "outputs": [],
   "source": [
    "#7 get the standard deviation of values in our dataset"
   ]
  },
  {
   "cell_type": "markdown",
   "metadata": {},
   "source": [
    "The largest value is much larger than our mean.   \n",
    "The standard deviation also is quite large which indicates that the difference between our mean and the \"middle value\" will be quite high.\n",
    "\n",
    "Let's look at the last 20 values of our sorted dataset to see if we have more than one very large value.   \n",
    "Sort the filtered dataset by the `area` column and output the last 20 entries from it."
   ]
  },
  {
   "cell_type": "code",
   "execution_count": null,
   "metadata": {
    "scrolled": false
   },
   "outputs": [],
   "source": [
    "#8 sorting the filtered dataset and printing the last 20 elements "
   ]
  },
  {
   "cell_type": "markdown",
   "metadata": {},
   "source": [
    "As we can see here, only 11 out of the 270 rows contain values that are larger than 100.   \n",
    "After 20 values we are close to the area value of 60. \n",
    "\n",
    "Let's imagine our dataset contained only 1 or 2 values that were much higher than the other ones, e.g. an area size value of 10254.91. Simply by observing the dataset, this feels like there might have been an error on adding this to the dataset.   \n",
    "In a smaller dataset, the mean value would get heavily distored by this one entry. A more stable value to use in such a case is the median value of the dataset.\n",
    "\n",
    "Get the median value for the ´area´ column."
   ]
  },
  {
   "cell_type": "code",
   "execution_count": null,
   "metadata": {},
   "outputs": [],
   "source": [
    "#9 calculate the median value for the area column"
   ]
  },
  {
   "cell_type": "markdown",
   "metadata": {},
   "source": [
    "**Note:**   \n",
    "Remember that the median is not the same as then mean of your dataset. While the median is simple the \"value in the middle\", the mean is much more prone to distortion by outliers."
   ]
  },
  {
   "cell_type": "markdown",
   "metadata": {},
   "source": [
    "---"
   ]
  },
  {
   "cell_type": "markdown",
   "metadata": {},
   "source": [
    "#### Finding the month with the most forest fires"
   ]
  },
  {
   "cell_type": "markdown",
   "metadata": {},
   "source": [
    "In this second task we want to quickly see which months have the most forest fires and whether or not the temperature has a direct connection to it.\n",
    "\n",
    "Get a list of month values that are present in our dataset."
   ]
  },
  {
   "cell_type": "code",
   "execution_count": null,
   "metadata": {},
   "outputs": [],
   "source": [
    "#10 get a list of month values from the dataset"
   ]
  },
  {
   "cell_type": "markdown",
   "metadata": {},
   "source": [
    "In addition to the unique values we also want use the shape element of our dataset to determine how many rows it has.\n",
    "\n",
    "Filter the dataset for only rows that contain the month `mar` and print the number of rows using `shape`."
   ]
  },
  {
   "cell_type": "code",
   "execution_count": null,
   "metadata": {},
   "outputs": [],
   "source": [
    "#11 get the number of forest fires for the month of march"
   ]
  },
  {
   "cell_type": "markdown",
   "metadata": {},
   "source": [
    "The last step to fulfil the task is to iterate over all months, filtering our dataset for the rows containing the given month and calculating the mean temperature.\n",
    "\n",
    "- Iterate over the months from the unique list we created\n",
    "- Filter our dataset for the rows containing the given month\n",
    "- Get the number of rows from `shape`\n",
    "- Get the mean temperature for the given month\n",
    "- Print a statement with the number of fires, mean temperature and the month"
   ]
  },
  {
   "cell_type": "code",
   "execution_count": null,
   "metadata": {},
   "outputs": [],
   "source": [
    "# 12-15\n",
    "# iterate over the months list\n",
    "# get number of forest fires for each month\n",
    "# get mean temperature for each month\n",
    "# print out number of fires and mean temperature"
   ]
  }
 ],
 "metadata": {
  "kernelspec": {
   "display_name": "Python 3 (ipykernel)",
   "language": "python",
   "name": "python3"
  },
  "language_info": {
   "codemirror_mode": {
    "name": "ipython",
    "version": 3
   },
   "file_extension": ".py",
   "mimetype": "text/x-python",
   "name": "python",
   "nbconvert_exporter": "python",
   "pygments_lexer": "ipython3",
   "version": "3.10.10"
  }
 },
 "nbformat": 4,
 "nbformat_minor": 2
}
